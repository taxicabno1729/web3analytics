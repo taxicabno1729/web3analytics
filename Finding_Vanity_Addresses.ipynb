{
  "nbformat": 4,
  "nbformat_minor": 0,
  "metadata": {
    "colab": {
      "provenance": []
    },
    "kernelspec": {
      "name": "python3",
      "display_name": "Python 3"
    },
    "language_info": {
      "name": "python"
    }
  },
  "cells": [
    {
      "cell_type": "code",
      "execution_count": null,
      "metadata": {
        "colab": {
          "base_uri": "https://localhost:8080/"
        },
        "id": "DjqVdkzzZo1V",
        "outputId": "11fda9f7-cff9-4135-b1db-e4b0cd23ddfb"
      },
      "outputs": [
        {
          "output_type": "stream",
          "name": "stdout",
          "text": [
            "Collecting wordninja\n",
            "  Downloading wordninja-2.0.0.tar.gz (541 kB)\n",
            "\u001b[2K     \u001b[90m━━━━━━━━━━━━━━━━━━━━━━━━━━━━━━━━━━━━━━━\u001b[0m \u001b[32m541.6/541.6 kB\u001b[0m \u001b[31m9.2 MB/s\u001b[0m eta \u001b[36m0:00:00\u001b[0m\n",
            "\u001b[?25h  Preparing metadata (setup.py) ... \u001b[?25l\u001b[?25hdone\n",
            "Building wheels for collected packages: wordninja\n",
            "  Building wheel for wordninja (setup.py) ... \u001b[?25l\u001b[?25hdone\n",
            "  Created wheel for wordninja: filename=wordninja-2.0.0-py3-none-any.whl size=541531 sha256=37b13f4026c807597ddead9748975bb01acb1d5211dede20256736e1c584485b\n",
            "  Stored in directory: /root/.cache/pip/wheels/aa/44/3a/f2a5c1859b8b541ded969b4cd12d0a58897f12408f4f51e084\n",
            "Successfully built wordninja\n",
            "Installing collected packages: wordninja\n",
            "Successfully installed wordninja-2.0.0\n"
          ]
        }
      ],
      "source": [
        "!pip install wordninja"
      ]
    },
    {
      "cell_type": "code",
      "source": [
        "import wordninja"
      ],
      "metadata": {
        "id": "9J6MMD7bZp0k"
      },
      "execution_count": null,
      "outputs": []
    },
    {
      "cell_type": "code",
      "source": [
        "wordninja.split('derekanderson')"
      ],
      "metadata": {
        "colab": {
          "base_uri": "https://localhost:8080/"
        },
        "id": "qSadTuXUZsHi",
        "outputId": "eacc2862-4aeb-48be-ab83-a72e4978bda1"
      },
      "execution_count": null,
      "outputs": [
        {
          "output_type": "execute_result",
          "data": {
            "text/plain": [
              "['derek', 'anderson']"
            ]
          },
          "metadata": {},
          "execution_count": 3
        }
      ]
    },
    {
      "cell_type": "code",
      "source": [
        "wordninja.split('1NinjaAssassin')"
      ],
      "metadata": {
        "colab": {
          "base_uri": "https://localhost:8080/"
        },
        "id": "N4bOvYyLZxiE",
        "outputId": "dc525824-b8b6-4ad7-f916-92922d5e9c0e"
      },
      "execution_count": null,
      "outputs": [
        {
          "output_type": "execute_result",
          "data": {
            "text/plain": [
              "['1', 'Ninja', 'Assassin']"
            ]
          },
          "metadata": {},
          "execution_count": 4
        }
      ]
    },
    {
      "cell_type": "code",
      "source": [
        "wordninja.split('bc1pkuxu8alvhd6ujcsh52g7ecvp0ezvfswdhsqy393ue9ca838ys8ts6esg09')"
      ],
      "metadata": {
        "colab": {
          "base_uri": "https://localhost:8080/"
        },
        "id": "IYNhTpfBZ9jc",
        "outputId": "4e63756f-33ec-4b91-891a-c87f5a8d3190"
      },
      "execution_count": null,
      "outputs": [
        {
          "output_type": "execute_result",
          "data": {
            "text/plain": [
              "['bc',\n",
              " '1',\n",
              " 'pku',\n",
              " 'xu',\n",
              " '8',\n",
              " 'al',\n",
              " 'vhd',\n",
              " '6',\n",
              " 'u',\n",
              " 'jc',\n",
              " 'sh',\n",
              " '52',\n",
              " 'g',\n",
              " '7',\n",
              " 'e',\n",
              " 'cvp',\n",
              " '0',\n",
              " 'ez',\n",
              " 'vf',\n",
              " 'sw',\n",
              " 'dh',\n",
              " 'sq',\n",
              " 'y',\n",
              " '393',\n",
              " 'ue',\n",
              " '9',\n",
              " 'ca',\n",
              " '838',\n",
              " 'ys',\n",
              " '8',\n",
              " 'ts',\n",
              " '6',\n",
              " 'es',\n",
              " 'g',\n",
              " '09']"
            ]
          },
          "metadata": {},
          "execution_count": 5
        }
      ]
    },
    {
      "cell_type": "code",
      "source": [
        "wordninja.split('1NinjazBudpLyeKpxyPP15psymAdS4kJSi')"
      ],
      "metadata": {
        "colab": {
          "base_uri": "https://localhost:8080/"
        },
        "id": "CpuOE12-aOLp",
        "outputId": "3aec0ba4-5a7d-42c9-d57f-a9566225e0ec"
      },
      "execution_count": null,
      "outputs": [
        {
          "output_type": "execute_result",
          "data": {
            "text/plain": [
              "['1',\n",
              " 'Ninja',\n",
              " 'zB',\n",
              " 'udp',\n",
              " 'Lye',\n",
              " 'Kp',\n",
              " 'xy',\n",
              " 'PP',\n",
              " '15',\n",
              " 'psy',\n",
              " 'mAdS',\n",
              " '4',\n",
              " 'kJ',\n",
              " 'Si']"
            ]
          },
          "metadata": {},
          "execution_count": 6
        }
      ]
    },
    {
      "cell_type": "code",
      "source": [],
      "metadata": {
        "id": "tC-7t-rxbQnQ"
      },
      "execution_count": null,
      "outputs": []
    }
  ]
}
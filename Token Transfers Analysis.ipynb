{
 "cells": [
  {
   "cell_type": "markdown",
   "id": "e384f727",
   "metadata": {
    "id": "e384f727"
   },
   "source": [
    "# Analysis of Transfer Events of a Token Contract"
   ]
  },
  {
   "cell_type": "markdown",
   "id": "26469381",
   "metadata": {
    "id": "26469381"
   },
   "source": [
    "The Aim of this exercise is to query an ethereum node and find out all the transfer events from any `starting block` to an `ending_block`. We consider not a very large `block_range`(`starting_block` - `ending_block`) as we can query at max `10,000` events in a single request to the node.\n",
    "\n",
    "Here we write the code such that this should be able to take the contract address of any token and return the analysis. All we need to do is change the `contract_address` variable and the rest should be the same."
   ]
  },
  {
   "cell_type": "markdown",
   "id": "813e086f",
   "metadata": {
    "id": "813e086f"
   },
   "source": [
    "## Setup"
   ]
  },
  {
   "cell_type": "code",
   "execution_count": 1,
   "id": "0ed1e0b6",
   "metadata": {
    "id": "0ed1e0b6"
   },
   "outputs": [],
   "source": [
    "## Import Libraries\n",
    "\n",
    "from web3 import Web3\n",
    "import json\n",
    "\n",
    "import pandas as pd\n",
    "import numpy as np\n",
    "import matplotlib.pyplot as plt"
   ]
  },
  {
   "cell_type": "code",
   "execution_count": null,
   "id": "96fc10fb",
   "metadata": {
    "colab": {
     "base_uri": "https://localhost:8080/"
    },
    "id": "96fc10fb",
    "outputId": "128d6ae6-7008-49bc-b7b7-c57238cfb79d"
   },
   "outputs": [],
   "source": [
    "## Set up Infura Node\n",
    "\n",
    "import getpass\n",
    "\n",
    "# Infura API setup\n",
    "API_KEY = getpass.getpass()\n",
    "infura_url = f\"https://mainnet.infura.io/v3/{API_KEY}\"\n",
    "web3 = Web3(Web3.HTTPProvider(infura_url))"
   ]
  },
  {
   "cell_type": "markdown",
   "id": "fca92cc9",
   "metadata": {
    "id": "fca92cc9"
   },
   "source": [
    "## Parse Token Details and Transfer Events from Token Contract"
   ]
  },
  {
   "cell_type": "code",
   "execution_count": null,
   "id": "2e88cab4",
   "metadata": {
    "id": "2e88cab4"
   },
   "outputs": [],
   "source": [
    "# Token contract address\n",
    "contract_address = \"0xBB0E17EF65F82Ab018d8EDd776e8DD940327B28b\" ## Axie Infinity Contract\n",
    "\n",
    "# Contract ABI for Transfer Events, Token Decimals and Contract Name\n",
    "contract_abi = [\n",
    "    {\n",
    "        \"anonymous\": False,\n",
    "        \"inputs\": [\n",
    "            {\n",
    "                \"indexed\": True,\n",
    "                \"internalType\": \"address\",\n",
    "                \"name\": \"_from\",\n",
    "                \"type\": \"address\"\n",
    "            },\n",
    "            {\n",
    "                \"indexed\": True,\n",
    "                \"internalType\": \"address\",\n",
    "                \"name\": \"_to\",\n",
    "                \"type\": \"address\"\n",
    "            },\n",
    "            {\n",
    "                \"indexed\": False,\n",
    "                \"internalType\": \"uint256\",\n",
    "                \"name\": \"_value\",\n",
    "                \"type\": \"uint256\"\n",
    "            }\n",
    "        ],\n",
    "        \"name\": \"Transfer\",\n",
    "        \"type\": \"event\"\n",
    "    },\n",
    "    {\n",
    "        \"constant\": True,\n",
    "        \"inputs\": [],\n",
    "        \"name\": \"decimals\",\n",
    "        \"outputs\": [\n",
    "            {\n",
    "                \"internalType\": \"uint8\",\n",
    "                \"name\": \"\",\n",
    "                \"type\": \"uint8\"\n",
    "            }\n",
    "        ],\n",
    "        \"payable\": False,\n",
    "        \"stateMutability\": \"view\",\n",
    "        \"type\": \"function\"\n",
    "    },\n",
    "    {\n",
    "        \"constant\": True,\n",
    "        \"inputs\": [],\n",
    "        \"name\": \"name\",\n",
    "        \"outputs\": [\n",
    "            {\n",
    "                \"internalType\": \"string\",\n",
    "                \"name\": \"\",\n",
    "                \"type\": \"string\"\n",
    "            }\n",
    "        ],\n",
    "        \"payable\": False,\n",
    "        \"stateMutability\": \"view\",\n",
    "        \"type\": \"function\"\n",
    "    }\n",
    "]\n",
    "\n",
    "# Set the range of blocks to scan for events\n",
    "\n",
    "from_block = 17351837 # Replace with desired starting block\n",
    "to_block = 17361837 # Replace with  desired ending block\n",
    "\n",
    "# Set up contract instance\n",
    "contract = web3.eth.contract(address=contract_address, abi=contract_abi)\n",
    "\n",
    "# Get the name of the contract\n",
    "name = contract.functions.name().call()\n",
    "\n",
    "# Get the no of decimals for the token\n",
    "decimals = contract.functions.decimals().call()\n",
    "\n",
    "# Get Transfer events\n",
    "events = contract.events.Transfer.getLogs(fromBlock=from_block, toBlock=to_block)"
   ]
  },
  {
   "cell_type": "code",
   "execution_count": null,
   "id": "23cf73a3",
   "metadata": {
    "colab": {
     "base_uri": "https://localhost:8080/"
    },
    "id": "23cf73a3",
    "outputId": "a84d8899-3683-4fe1-c16b-951081ec199f"
   },
   "outputs": [],
   "source": [
    "def find_block_timestamp(blockNumber):\n",
    "    '''Finds block date for a given block number. Only an estimation data as caclulating exact block date\n",
    "    from node requires multiple requests. \n",
    "    \n",
    "    Using block number 17351837(https://etherscan.io/block/17351837) for reference.\n",
    "    \n",
    "    Block timestamp for block 17351837 = 1685207(`May-27-2023 05:19:47 PM +UTC`)\n",
    "    \n",
    "    Hence, Block timestamp for block x = AVG_BLOCK_TIME * (blockNumber - 17351837) + 1685207\n",
    "    '''\n",
    "    \n",
    "    AVG_BLOCK_TIME = 12\n",
    "    return pd.to_datetime(AVG_BLOCK_TIME * (blockNumber - 17351837) + 1685207987, unit='s').date()\n",
    "\n",
    "find_block_timestamp(17351837)"
   ]
  },
  {
   "cell_type": "code",
   "execution_count": null,
   "id": "039f05da",
   "metadata": {
    "colab": {
     "base_uri": "https://localhost:8080/",
     "height": 823
    },
    "id": "039f05da",
    "outputId": "39b2fd02-67ec-4f88-e497-2216da22c1e7"
   },
   "outputs": [],
   "source": [
    "events_pd = pd.DataFrame(events)\n",
    "\n",
    "def parse_args(row):\n",
    "    row['from_address'] = row['args'].get('_from')\n",
    "    row['to_address'] = row['args'].get('_to')\n",
    "    row['value'] = int(row['args'].get('_value'))/pow(10,decimals)\n",
    "    row['transactionHash'] = row['transactionHash'].hex()\n",
    "    row['blockHash'] = row['blockHash'].hex()\n",
    "    row['blockDate'] = find_block_timestamp(row['blockNumber'])\n",
    "    return row\n",
    "\n",
    "events_pd = events_pd.apply(parse_args, axis=1)\n",
    "events_pd"
   ]
  },
  {
   "cell_type": "markdown",
   "id": "ccdcc6ec",
   "metadata": {
    "id": "ccdcc6ec"
   },
   "source": [
    "## Some basic EDA on Daily Transfer Events"
   ]
  },
  {
   "cell_type": "markdown",
   "id": "9844b697",
   "metadata": {
    "id": "9844b697"
   },
   "source": [
    "### Plots on Daily Transaction Count and Transaction Values"
   ]
  },
  {
   "cell_type": "code",
   "execution_count": null,
   "id": "01c8af1e",
   "metadata": {
    "colab": {
     "base_uri": "https://localhost:8080/",
     "height": 553
    },
    "id": "01c8af1e",
    "outputId": "a8621bfd-53b3-4e7a-d2ce-2d5155d8bc64"
   },
   "outputs": [],
   "source": [
    "events_agg_by_date = events_pd.groupby('blockDate')\n",
    "\n",
    "fig, (ax1, ax2) = plt.subplots(1, 2, figsize=(10,5))\n",
    "\n",
    "plt.title(f'Daily Aggregated plots for \\ntoken: {name}, \\naddress: {contract_address}')\n",
    "\n",
    "events_agg_by_date.transactionIndex.nunique().plot.bar(ax = ax1)\n",
    "ax1.set_title(f'Tranfer Counts')\n",
    "\n",
    "events_agg_by_date.value.sum().plot.bar(ax = ax2)\n",
    "ax2.set_title(f'Transfer Value')\n",
    "\n",
    "plt.show()"
   ]
  },
  {
   "cell_type": "markdown",
   "id": "29cbb230",
   "metadata": {
    "id": "29cbb230"
   },
   "source": [
    "## Some basic EDA on Events aggregated by user"
   ]
  },
  {
   "cell_type": "code",
   "execution_count": null,
   "id": "ccae652c",
   "metadata": {
    "id": "ccae652c"
   },
   "outputs": [],
   "source": [
    "tokens_sent_per_user = events_pd.groupby('from_address').value.sum().reset_index().rename(\n",
    "    columns={'from_address':'address'}\n",
    ")\n",
    "tokens_received_per_user = events_pd.groupby('to_address').value.sum().reset_index().rename(\n",
    "    columns={'to_address':'address'}\n",
    ") \n",
    "\n",
    "events_agg_by_address = pd.merge(\n",
    "    tokens_sent_per_user, \n",
    "    tokens_received_per_user, \n",
    "    how='outer', \n",
    "    on='address', \n",
    "    suffixes=['_sent','_received']\n",
    ").fillna(0)\n",
    "\n",
    "events_agg_by_address['balance'] = events_agg_by_address['value_received'] - events_agg_by_address['value_sent'] "
   ]
  },
  {
   "cell_type": "markdown",
   "id": "eba2d846",
   "metadata": {
    "id": "eba2d846"
   },
   "source": [
    "### Top 5 balance holders"
   ]
  },
  {
   "cell_type": "code",
   "execution_count": null,
   "id": "8fc62891",
   "metadata": {
    "colab": {
     "base_uri": "https://localhost:8080/",
     "height": 204
    },
    "id": "8fc62891",
    "outputId": "59fa045a-c185-4544-f72a-a017c068ba11"
   },
   "outputs": [],
   "source": [
    "top_balance_holders = events_agg_by_address.sort_values('balance', ascending=False).head()\n",
    "display(top_balance_holders)"
   ]
  },
  {
   "cell_type": "markdown",
   "id": "98172868",
   "metadata": {
    "id": "98172868"
   },
   "source": [
    "### Average balance per token holder"
   ]
  },
  {
   "cell_type": "code",
   "execution_count": null,
   "id": "363bd7ac",
   "metadata": {
    "colab": {
     "base_uri": "https://localhost:8080/"
    },
    "id": "363bd7ac",
    "outputId": "dda40c0b-f2e7-430a-9687-1272007cee0c"
   },
   "outputs": [],
   "source": [
    "print(\"Average Value sent per user: \", np.mean(events_agg_by_address['value_sent']))"
   ]
  }
 ],
 "metadata": {
  "colab": {
   "provenance": []
  },
  "kernelspec": {
   "display_name": "Python 3 (ipykernel)",
   "language": "python",
   "name": "python3"
  },
  "language_info": {
   "codemirror_mode": {
    "name": "ipython",
    "version": 3
   },
   "file_extension": ".py",
   "mimetype": "text/x-python",
   "name": "python",
   "nbconvert_exporter": "python",
   "pygments_lexer": "ipython3",
   "version": "3.9.6"
  }
 },
 "nbformat": 4,
 "nbformat_minor": 5
}
